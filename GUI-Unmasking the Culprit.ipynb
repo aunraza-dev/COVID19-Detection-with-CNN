{
 "cells": [
  {
   "cell_type": "code",
   "execution_count": 1,
   "id": "0745d970",
   "metadata": {},
   "outputs": [
    {
     "name": "stdout",
     "output_type": "stream",
     "text": [
      "WARNING:tensorflow:From C:\\Users\\hp\\anaconda3\\Lib\\site-packages\\keras\\src\\losses.py:2976: The name tf.losses.sparse_softmax_cross_entropy is deprecated. Please use tf.compat.v1.losses.sparse_softmax_cross_entropy instead.\n",
      "\n",
      "WARNING:tensorflow:From C:\\Users\\hp\\anaconda3\\Lib\\site-packages\\keras\\src\\backend.py:1398: The name tf.executing_eagerly_outside_functions is deprecated. Please use tf.compat.v1.executing_eagerly_outside_functions instead.\n",
      "\n",
      "WARNING:tensorflow:From C:\\Users\\hp\\anaconda3\\Lib\\site-packages\\keras\\src\\layers\\pooling\\max_pooling2d.py:161: The name tf.nn.max_pool is deprecated. Please use tf.nn.max_pool2d instead.\n",
      "\n"
     ]
    }
   ],
   "source": [
    "from tkinter import Tk, Label, Button, filedialog\n",
    "from PIL import Image, ImageTk\n",
    "import numpy as np\n",
    "import keras\n",
    "from keras.preprocessing import image as keras_image\n",
    "\n",
    "# Loading the trained model\n",
    "model = keras.models.load_model('D:/Unmasking the Culprit/COVID-CNN-Model.h5')"
   ]
  },
  {
   "cell_type": "code",
   "execution_count": 2,
   "id": "40af0125",
   "metadata": {},
   "outputs": [
    {
     "name": "stderr",
     "output_type": "stream",
     "text": [
      "C:\\Users\\hp\\AppData\\Local\\Temp\\ipykernel_4444\\4199100788.py:7: DeprecationWarning: ANTIALIAS is deprecated and will be removed in Pillow 10 (2023-07-01). Use LANCZOS or Resampling.LANCZOS instead.\n",
      "  img = img.resize((200, 200), Image.ANTIALIAS)\n"
     ]
    },
    {
     "name": "stdout",
     "output_type": "stream",
     "text": [
      "1/1 [==============================] - 0s 135ms/step\n"
     ]
    }
   ],
   "source": [
    "# Function to select image\n",
    "def browse_btn():\n",
    "    global image_name\n",
    "    image_name = filedialog.askopenfilename(title='Select Image')\n",
    "\n",
    "    img = Image.open(image_name)\n",
    "    img = img.resize((200, 200), Image.ANTIALIAS)\n",
    "    img = ImageTk.PhotoImage(img)\n",
    "    panel = Label(root, image=img)\n",
    "    panel.image = img\n",
    "    panel.grid(row=0, column=1, sticky='nw', padx=20, pady=28)\n",
    "\n",
    "# Function to predict using the CNN model\n",
    "def predict_btn_cnn():\n",
    "    global label_cnn\n",
    "    test_img = keras_image.load_img(image_name, target_size=(150, 150))\n",
    "    test_img = keras_image.img_to_array(test_img)\n",
    "    test_img = np.expand_dims(test_img, axis=0)\n",
    "    result = model.predict(test_img)\n",
    "    \n",
    "    if result[0][0] == 1:\n",
    "        label_cnn.configure(text=\"COVID-19 Negative\")\n",
    "    elif result[0][0] == 0:\n",
    "        label_cnn.configure(text=\"COVID-19 Positive\")\n",
    "\n",
    "# Create the GUI window\n",
    "root = Tk()\n",
    "root.geometry('420x380')\n",
    "root.title('Unmasking the Culprit : CNN on COVID-19 Patrol')\n",
    "\n",
    "# Browse Button\n",
    "browsebtn = Button(master=root, text=\"Browse Image\", command=browse_btn)\n",
    "browsebtn.grid(row=0, column=0, sticky='nw', padx=20, pady=20)\n",
    "\n",
    "# Predict Button CNN\n",
    "predictbtn = Button(master=root, text=\"Predict CNN\", command=predict_btn_cnn)\n",
    "predictbtn.grid(row=1, column=0, sticky='nw', padx=20, pady=20)\n",
    "\n",
    "# Label Result CNN\n",
    "label_cnn = Label(root, text=\"\")\n",
    "label_cnn.grid(row=1, column=1, sticky='nw', padx=20, pady=20)\n",
    "\n",
    "# Running the GUI\n",
    "root.mainloop()"
   ]
  },
  {
   "cell_type": "code",
   "execution_count": null,
   "id": "cbbf2f72",
   "metadata": {},
   "outputs": [],
   "source": []
  }
 ],
 "metadata": {
  "kernelspec": {
   "display_name": "Python 3 (ipykernel)",
   "language": "python",
   "name": "python3"
  },
  "language_info": {
   "codemirror_mode": {
    "name": "ipython",
    "version": 3
   },
   "file_extension": ".py",
   "mimetype": "text/x-python",
   "name": "python",
   "nbconvert_exporter": "python",
   "pygments_lexer": "ipython3",
   "version": "3.11.5"
  }
 },
 "nbformat": 4,
 "nbformat_minor": 5
}
