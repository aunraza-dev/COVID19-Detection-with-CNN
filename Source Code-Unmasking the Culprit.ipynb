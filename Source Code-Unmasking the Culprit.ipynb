{
  "nbformat": 4,
  "nbformat_minor": 0,
  "metadata": {
    "colab": {
      "provenance": []
    },
    "kernelspec": {
      "name": "python3",
      "display_name": "Python 3"
    },
    "language_info": {
      "name": "python"
    }
  },
  "cells": [
    {
      "cell_type": "code",
      "execution_count": 1,
      "metadata": {
        "id": "Q5_j4xY3FJMa"
      },
      "outputs": [],
      "source": [
        "# Importing Libraries\n",
        "import os\n",
        "import cv2\n",
        "import numpy as np\n",
        "import matplotlib.pyplot as plt\n",
        "import keras\n",
        "from keras.models import Sequential\n",
        "from keras.layers import Dense, Conv2D, MaxPooling2D, Dropout, Flatten, Activation\n",
        "from keras.preprocessing.image import ImageDataGenerator"
      ]
    },
    {
      "cell_type": "code",
      "source": [
        "from google.colab import drive\n",
        "drive.mount('/content/drive')\n",
        "path = '/content/drive/My Drive/X-Rays'"
      ],
      "metadata": {
        "colab": {
          "base_uri": "https://localhost:8080/"
        },
        "id": "vqFYNuMcGBDn",
        "outputId": "2bb0a800-d498-49c1-c6be-8d75f96d7245"
      },
      "execution_count": 2,
      "outputs": [
        {
          "output_type": "stream",
          "name": "stdout",
          "text": [
            "Mounted at /content/drive\n"
          ]
        }
      ]
    },
    {
      "cell_type": "code",
      "source": [
        "# Loading the images\n",
        "train_data_dir = os.path.join(path, 'Train')\n",
        "test_data_dir = os.path.join(path, 'Test')"
      ],
      "metadata": {
        "id": "3PaKDWOEGOtS"
      },
      "execution_count": 3,
      "outputs": []
    },
    {
      "cell_type": "code",
      "source": [
        "def enhance_image(image):\n",
        "    # Normalize each channel to the range [0, 1]\n",
        "    normalized = cv2.normalize(image, None, alpha=0, beta=1, norm_type=cv2.NORM_MINMAX)\n",
        "\n",
        "    # Apply contrast stretching to each channel\n",
        "    stretched = np.zeros_like(normalized)\n",
        "    for i in range(3):\n",
        "        channel = normalized[:, :, i]\n",
        "        min_val = np.min(channel)\n",
        "        max_val = np.max(channel)\n",
        "        stretched[:, :, i] = (channel - min_val) / (max_val - min_val)\n",
        "\n",
        "    # Clip the values to ensure they are within the valid range\n",
        "    stretched = np.clip(stretched, 0, 1)\n",
        "\n",
        "    # Convert the image back to uint8 data type\n",
        "    enhanced_image = (stretched * 255)\n",
        "\n",
        "    return enhanced_image"
      ],
      "metadata": {
        "id": "7KPBVWG1GQMb"
      },
      "execution_count": 4,
      "outputs": []
    },
    {
      "cell_type": "code",
      "source": [
        "# Image Preprocessing\n",
        "train_datagen = ImageDataGenerator(rescale=1./255, preprocessing_function=enhance_image)\n",
        "test_datagen = ImageDataGenerator(rescale=1./255, preprocessing_function=enhance_image)"
      ],
      "metadata": {
        "id": "z_h9HOe9GTYf"
      },
      "execution_count": 5,
      "outputs": []
    },
    {
      "cell_type": "code",
      "source": [
        "# Training the Model\n",
        "train_generator = train_datagen.flow_from_directory(\n",
        "    train_data_dir,\n",
        "    target_size=(150,150),\n",
        "    batch_size=32,\n",
        "    class_mode='binary')\n",
        "\n",
        "test_generator = test_datagen.flow_from_directory(\n",
        "    test_data_dir,\n",
        "    target_size=(150,150),\n",
        "    batch_size=32,\n",
        "    class_mode='binary',\n",
        "    shuffle=False\n",
        "    )"
      ],
      "metadata": {
        "colab": {
          "base_uri": "https://localhost:8080/"
        },
        "id": "g2sC88vcGW7o",
        "outputId": "d01a00b6-6b84-4e45-f038-4e1fbb43cb37"
      },
      "execution_count": 6,
      "outputs": [
        {
          "output_type": "stream",
          "name": "stdout",
          "text": [
            "Found 9665 images belonging to 2 classes.\n",
            "Found 4143 images belonging to 2 classes.\n"
          ]
        }
      ]
    },
    {
      "cell_type": "code",
      "source": [
        "model = Sequential()\n",
        "\n",
        "#Adding convolutional layers\n",
        "model.add(Conv2D(32, (3, 3), input_shape=(150, 150, 3)))\n",
        "model.add(Activation('relu'))\n",
        "model.add(MaxPooling2D(pool_size=(2, 2)))\n",
        "\n",
        "#Adding a second convolutional layer\n",
        "model.add(Conv2D(32, (3, 3)))\n",
        "model.add(Activation('relu'))\n",
        "model.add(MaxPooling2D(pool_size=(2, 2)))\n",
        "\n",
        "\n",
        "model.add(Flatten())  # this converts our feature maps to 1D feature vectors\n",
        "model.add(Dense(64))\n",
        "model.add(Activation('relu'))\n",
        "model.add(Dropout(0.5))\n",
        "model.add(Dense(1))\n",
        "model.add(Activation('sigmoid'))"
      ],
      "metadata": {
        "id": "YuX1VKtRGafZ"
      },
      "execution_count": 7,
      "outputs": []
    },
    {
      "cell_type": "code",
      "source": [
        "# Compiling the model\n",
        "model.compile(loss='binary_crossentropy',\n",
        "              optimizer='adam',\n",
        "              metrics=['accuracy'])"
      ],
      "metadata": {
        "id": "z-dQL9NWGp1X"
      },
      "execution_count": 8,
      "outputs": []
    },
    {
      "cell_type": "code",
      "source": [
        "# Training the Model\n",
        "model.fit(\n",
        "    train_generator,\n",
        "    steps_per_epoch=32,\n",
        "    epochs=25,\n",
        "    validation_data=test_generator,\n",
        "    validation_steps=32)"
      ],
      "metadata": {
        "colab": {
          "base_uri": "https://localhost:8080/"
        },
        "id": "1H1Autj8Gs8H",
        "outputId": "e1fc095c-ce1f-4c50-bd90-74634384f10e"
      },
      "execution_count": 9,
      "outputs": [
        {
          "output_type": "stream",
          "name": "stdout",
          "text": [
            "Epoch 1/25\n",
            "32/32 [==============================] - 631s 20s/step - loss: 0.6315 - accuracy: 0.7109 - val_loss: 1.4134 - val_accuracy: 0.0000e+00\n",
            "Epoch 2/25\n",
            "32/32 [==============================] - 124s 4s/step - loss: 0.4613 - accuracy: 0.7598 - val_loss: 1.1690 - val_accuracy: 0.1963\n",
            "Epoch 3/25\n",
            "32/32 [==============================] - 96s 3s/step - loss: 0.3894 - accuracy: 0.8097 - val_loss: 1.2078 - val_accuracy: 0.0723\n",
            "Epoch 4/25\n",
            "32/32 [==============================] - 89s 3s/step - loss: 0.3835 - accuracy: 0.8320 - val_loss: 1.6415 - val_accuracy: 0.1426\n",
            "Epoch 5/25\n",
            "32/32 [==============================] - 90s 3s/step - loss: 0.3776 - accuracy: 0.8252 - val_loss: 1.4576 - val_accuracy: 0.1846\n",
            "Epoch 6/25\n",
            "32/32 [==============================] - 83s 2s/step - loss: 0.3477 - accuracy: 0.8398 - val_loss: 1.1657 - val_accuracy: 0.3350\n",
            "Epoch 7/25\n",
            "32/32 [==============================] - 72s 2s/step - loss: 0.3152 - accuracy: 0.8620 - val_loss: 1.1878 - val_accuracy: 0.3154\n",
            "Epoch 8/25\n",
            "32/32 [==============================] - 65s 2s/step - loss: 0.3144 - accuracy: 0.8760 - val_loss: 0.9083 - val_accuracy: 0.4355\n",
            "Epoch 9/25\n",
            "32/32 [==============================] - 75s 2s/step - loss: 0.2951 - accuracy: 0.8721 - val_loss: 1.2243 - val_accuracy: 0.3809\n",
            "Epoch 10/25\n",
            "32/32 [==============================] - 67s 2s/step - loss: 0.2288 - accuracy: 0.8945 - val_loss: 1.5073 - val_accuracy: 0.3623\n",
            "Epoch 11/25\n",
            "32/32 [==============================] - 56s 2s/step - loss: 0.2809 - accuracy: 0.8838 - val_loss: 1.0714 - val_accuracy: 0.3682\n",
            "Epoch 12/25\n",
            "32/32 [==============================] - 61s 2s/step - loss: 0.2659 - accuracy: 0.8926 - val_loss: 1.0694 - val_accuracy: 0.4258\n",
            "Epoch 13/25\n",
            "32/32 [==============================] - 48s 1s/step - loss: 0.2777 - accuracy: 0.8799 - val_loss: 0.7774 - val_accuracy: 0.5303\n",
            "Epoch 14/25\n",
            "32/32 [==============================] - 50s 2s/step - loss: 0.2436 - accuracy: 0.8975 - val_loss: 0.7399 - val_accuracy: 0.6592\n",
            "Epoch 15/25\n",
            "32/32 [==============================] - 53s 2s/step - loss: 0.2415 - accuracy: 0.9062 - val_loss: 1.2334 - val_accuracy: 0.3740\n",
            "Epoch 16/25\n",
            "32/32 [==============================] - 53s 2s/step - loss: 0.2502 - accuracy: 0.8916 - val_loss: 0.7830 - val_accuracy: 0.6279\n",
            "Epoch 17/25\n",
            "32/32 [==============================] - 54s 2s/step - loss: 0.2405 - accuracy: 0.9023 - val_loss: 1.5207 - val_accuracy: 0.3467\n",
            "Epoch 18/25\n",
            "32/32 [==============================] - 54s 2s/step - loss: 0.2319 - accuracy: 0.8994 - val_loss: 0.9803 - val_accuracy: 0.5342\n",
            "Epoch 19/25\n",
            "32/32 [==============================] - 63s 2s/step - loss: 0.2079 - accuracy: 0.9092 - val_loss: 0.9223 - val_accuracy: 0.5488\n",
            "Epoch 20/25\n",
            "32/32 [==============================] - 52s 2s/step - loss: 0.2123 - accuracy: 0.9134 - val_loss: 1.2664 - val_accuracy: 0.2852\n",
            "Epoch 21/25\n",
            "32/32 [==============================] - 55s 2s/step - loss: 0.2518 - accuracy: 0.9053 - val_loss: 0.7280 - val_accuracy: 0.6172\n",
            "Epoch 22/25\n",
            "32/32 [==============================] - 52s 2s/step - loss: 0.1920 - accuracy: 0.9170 - val_loss: 0.9159 - val_accuracy: 0.5762\n",
            "Epoch 23/25\n",
            "32/32 [==============================] - 46s 1s/step - loss: 0.2137 - accuracy: 0.9170 - val_loss: 1.1954 - val_accuracy: 0.4092\n",
            "Epoch 24/25\n",
            "32/32 [==============================] - 52s 2s/step - loss: 0.2037 - accuracy: 0.9235 - val_loss: 0.6034 - val_accuracy: 0.7217\n",
            "Epoch 25/25\n",
            "32/32 [==============================] - 54s 2s/step - loss: 0.1964 - accuracy: 0.9131 - val_loss: 0.6126 - val_accuracy: 0.6934\n"
          ]
        },
        {
          "output_type": "execute_result",
          "data": {
            "text/plain": [
              "<keras.src.callbacks.History at 0x7baa577d60b0>"
            ]
          },
          "metadata": {},
          "execution_count": 9
        }
      ]
    },
    {
      "cell_type": "code",
      "source": [
        "model.summary()"
      ],
      "metadata": {
        "colab": {
          "base_uri": "https://localhost:8080/"
        },
        "id": "rJUY4M_UGxtg",
        "outputId": "9edb2dcc-018b-434f-ef83-ab8a03018825"
      },
      "execution_count": 10,
      "outputs": [
        {
          "output_type": "stream",
          "name": "stdout",
          "text": [
            "Model: \"sequential\"\n",
            "_________________________________________________________________\n",
            " Layer (type)                Output Shape              Param #   \n",
            "=================================================================\n",
            " conv2d (Conv2D)             (None, 148, 148, 32)      896       \n",
            "                                                                 \n",
            " activation (Activation)     (None, 148, 148, 32)      0         \n",
            "                                                                 \n",
            " max_pooling2d (MaxPooling2  (None, 74, 74, 32)        0         \n",
            " D)                                                              \n",
            "                                                                 \n",
            " conv2d_1 (Conv2D)           (None, 72, 72, 32)        9248      \n",
            "                                                                 \n",
            " activation_1 (Activation)   (None, 72, 72, 32)        0         \n",
            "                                                                 \n",
            " max_pooling2d_1 (MaxPoolin  (None, 36, 36, 32)        0         \n",
            " g2D)                                                            \n",
            "                                                                 \n",
            " flatten (Flatten)           (None, 41472)             0         \n",
            "                                                                 \n",
            " dense (Dense)               (None, 64)                2654272   \n",
            "                                                                 \n",
            " activation_2 (Activation)   (None, 64)                0         \n",
            "                                                                 \n",
            " dropout (Dropout)           (None, 64)                0         \n",
            "                                                                 \n",
            " dense_1 (Dense)             (None, 1)                 65        \n",
            "                                                                 \n",
            " activation_3 (Activation)   (None, 1)                 0         \n",
            "                                                                 \n",
            "=================================================================\n",
            "Total params: 2664481 (10.16 MB)\n",
            "Trainable params: 2664481 (10.16 MB)\n",
            "Non-trainable params: 0 (0.00 Byte)\n",
            "_________________________________________________________________\n"
          ]
        }
      ]
    },
    {
      "cell_type": "code",
      "source": [
        "model.evaluate(test_generator)"
      ],
      "metadata": {
        "colab": {
          "base_uri": "https://localhost:8080/"
        },
        "id": "_2EzzsF3OZ_C",
        "outputId": "ccc078bf-dfd9-4277-d167-e6ccf6686751"
      },
      "execution_count": 11,
      "outputs": [
        {
          "output_type": "stream",
          "name": "stdout",
          "text": [
            "130/130 [==============================] - 1171s 9s/step - loss: 0.3130 - accuracy: 0.8530\n"
          ]
        },
        {
          "output_type": "execute_result",
          "data": {
            "text/plain": [
              "[0.31297770142555237, 0.853005051612854]"
            ]
          },
          "metadata": {},
          "execution_count": 11
        }
      ]
    },
    {
      "cell_type": "code",
      "source": [
        "# Saving the Model\n",
        "model.save('COVID.h5')"
      ],
      "metadata": {
        "colab": {
          "base_uri": "https://localhost:8080/"
        },
        "id": "54DsSplDOaw9",
        "outputId": "45e0a746-f67e-4ddf-d575-d2371386d2d8"
      },
      "execution_count": 12,
      "outputs": [
        {
          "output_type": "stream",
          "name": "stderr",
          "text": [
            "/usr/local/lib/python3.10/dist-packages/keras/src/engine/training.py:3103: UserWarning: You are saving your model as an HDF5 file via `model.save()`. This file format is considered legacy. We recommend using instead the native Keras format, e.g. `model.save('my_model.keras')`.\n",
            "  saving_api.save_model(\n"
          ]
        }
      ]
    },
    {
      "cell_type": "code",
      "source": [
        "from google.colab import files\n",
        "files.download('COVID.h5')"
      ],
      "metadata": {
        "colab": {
          "base_uri": "https://localhost:8080/",
          "height": 17
        },
        "id": "WWpMeXQnUpWY",
        "outputId": "436e8746-6c17-413d-d509-412c70b250ef"
      },
      "execution_count": 13,
      "outputs": [
        {
          "output_type": "display_data",
          "data": {
            "text/plain": [
              "<IPython.core.display.Javascript object>"
            ],
            "application/javascript": [
              "\n",
              "    async function download(id, filename, size) {\n",
              "      if (!google.colab.kernel.accessAllowed) {\n",
              "        return;\n",
              "      }\n",
              "      const div = document.createElement('div');\n",
              "      const label = document.createElement('label');\n",
              "      label.textContent = `Downloading \"${filename}\": `;\n",
              "      div.appendChild(label);\n",
              "      const progress = document.createElement('progress');\n",
              "      progress.max = size;\n",
              "      div.appendChild(progress);\n",
              "      document.body.appendChild(div);\n",
              "\n",
              "      const buffers = [];\n",
              "      let downloaded = 0;\n",
              "\n",
              "      const channel = await google.colab.kernel.comms.open(id);\n",
              "      // Send a message to notify the kernel that we're ready.\n",
              "      channel.send({})\n",
              "\n",
              "      for await (const message of channel.messages) {\n",
              "        // Send a message to notify the kernel that we're ready.\n",
              "        channel.send({})\n",
              "        if (message.buffers) {\n",
              "          for (const buffer of message.buffers) {\n",
              "            buffers.push(buffer);\n",
              "            downloaded += buffer.byteLength;\n",
              "            progress.value = downloaded;\n",
              "          }\n",
              "        }\n",
              "      }\n",
              "      const blob = new Blob(buffers, {type: 'application/binary'});\n",
              "      const a = document.createElement('a');\n",
              "      a.href = window.URL.createObjectURL(blob);\n",
              "      a.download = filename;\n",
              "      div.appendChild(a);\n",
              "      a.click();\n",
              "      div.remove();\n",
              "    }\n",
              "  "
            ]
          },
          "metadata": {}
        },
        {
          "output_type": "display_data",
          "data": {
            "text/plain": [
              "<IPython.core.display.Javascript object>"
            ],
            "application/javascript": [
              "download(\"download_9672ea90-3f76-44ee-a7c2-7ff8022ab481\", \"COVID.h5\", 32022000)"
            ]
          },
          "metadata": {}
        }
      ]
    }
  ]
}